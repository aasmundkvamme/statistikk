{
 "cells": [
  {
   "cell_type": "markdown",
   "id": "d358e765-ee6c-45a3-844e-7197628f4df9",
   "metadata": {},
   "source": [
    "# 1. Sannsynsrekning\n",
    "For å kunne rekne med sannsyn må vi laste inn biblioteket `numpy`. Og eventuelt eit ekstra bibliotek `byg102statistikk` som inneheld ein del viktige funksjonar. I starten definerer eg nokre av dei her:"
   ]
  },
  {
   "cell_type": "code",
   "execution_count": 43,
   "id": "172a413c-6250-4206-b3d9-8c75fa63615d",
   "metadata": {},
   "outputs": [],
   "source": [
    "import numpy as np\n",
    "npr = np.random.default_rng()\n",
    "def fakultet(n):\n",
    "    return np.prod(range(1,n+1))"
   ]
  },
  {
   "cell_type": "markdown",
   "id": "9f2571a0-adc8-4859-bf1b-fc4996382939",
   "metadata": {},
   "source": [
    "Så kan vi finne for eksempel tilfeldige tal frå ei binomisk fordeling:"
   ]
  },
  {
   "cell_type": "code",
   "execution_count": 44,
   "id": "28df1eb6-017f-44a3-ba2d-27d89a7dd096",
   "metadata": {},
   "outputs": [
    {
     "name": "stdout",
     "output_type": "stream",
     "text": [
      "[1 5 6 4 1]\n"
     ]
    }
   ],
   "source": [
    "# Fem kast med terning (Yatzy)\n",
    "antal = 5\n",
    "n = 6\n",
    "kast = npr.integers(n, size=antal) + 1\n",
    "print(kast)"
   ]
  },
  {
   "cell_type": "markdown",
   "id": "a75df939-7d4b-4d97-ac53-b7c66d1bf222",
   "metadata": {
    "jp-MarkdownHeadingCollapsed": true
   },
   "source": [
    "## 1.1 Fordelingar\n",
    "Vi skal ikkje sjå på så veldig mange ulike fordelingar, men desse må du kjenne til:"
   ]
  },
  {
   "cell_type": "markdown",
   "id": "994fa5c2-6ac7-42d8-943d-ec8f9152681e",
   "metadata": {},
   "source": [
    "### 1.1.1 Binomisk fordeling\n",
    "Dette er situasjonen der du gjer $n$ identiske og uavhengige (ofte kalt IID) forsøk, og alle har sannsyn $p$ for å ha \"suksess\" (altå eitt av to moglege utfall). Variabelen $X$ er då \"antal suksess blant dei $n$\". Fordelinga har to parametre ($n$ og $p$), og variabelen sitt utfallsrom er $X\\in\\left\\{0, 1, 2, \\ldots, n\\right\\}$. "
   ]
  },
  {
   "cell_type": "markdown",
   "id": "9c46db9b-93f7-488c-93f4-f27aae60e8f4",
   "metadata": {},
   "source": [
    "### 1.1.2 Poissonfordeling\n",
    "Dette er situasjonen der du observerer kor mange ganger noko skjer i løpet av eit gitt tidsintervall. Fordelinga har to parametre: $\\lambda$, som er \"forventa antal observasjonar per tidseining\", og $t$ som er \"antal tidseiningar\". Variabelen $X$ er \"antal suksess i tidsrommet $t$\", og utfallsrommet er $X\\in\\left\\{0, 1, 2, \\ldots\\right\\}$ (altså kan vi observere *veldig mange* i løpet av eit tidsrom)."
   ]
  },
  {
   "cell_type": "markdown",
   "id": "8048a395-bc94-4df5-bff2-d62c837e4868",
   "metadata": {},
   "source": [
    "### 1.1.3 Geometrisk fordeling\n",
    "Dette er \"ventetid\" i diskrete fordelingar: vi gjer eitt og same forsøk inntil vi får \"suksess\". Parameteren er $p$, sannsynet for \"suksess\". Variabelen $X$ er \"antal forsøk før suksess\", og utfallsrommet er $X\\in\\left\\{0, 1, 2, \\ldots\\right\\}$."
   ]
  },
  {
   "cell_type": "markdown",
   "id": "e5e9558e-c628-4693-b76d-f5f1fa692133",
   "metadata": {},
   "source": [
    "### 1.1.4 Normalfordeling\n",
    "Dette er den aller viktigaste fordelinga. Den seier noko om risikoen for at ein observasjon skal havne utanfor eit gitt \"normalområde\". Den har to parametre: Den forventa verdien $\\mu$ og usikkerheten $\\sigma$. Variabelen $X$ er verdien av observasjonen, og utfallsrommet er $-\\infty<X<\\infty$. Det betyr at vi i *teorien* kan få alle moglege verdiar av $X$, men i *praksis* vil verdiane ligge innanfor det gitte normalområdet."
   ]
  },
  {
   "cell_type": "markdown",
   "id": "c381f1e0-4224-4889-a51e-404f317c3230",
   "metadata": {},
   "source": [
    "### 1.1.5 Kjikvadratfordeling\n",
    "Denne er litt meir teoretisk, og dukker *berre* opp i kvalitetskontroll. Den seier noko om *usikkerheten* i normalfordelinga (altså kor stort \"normalområdet\" er). Den har ein parameter $k$, og variabelen $X$ har utfallrom $0\\leq X< \\infty$."
   ]
  },
  {
   "cell_type": "markdown",
   "id": "cf0f1660-9e49-4d49-b8b1-b5352e509fcf",
   "metadata": {
    "jp-MarkdownHeadingCollapsed": true
   },
   "source": [
    "## 1.2 Formlar i sannsynsrekning\n",
    "Når ein stokastisk variabel er definert, vil den alltid ha ein eller fleire *parametre*. Og det er to ting vi (ofte) vil vere interessert i:\n",
    "\n",
    "1. Rekne ut sannsynet for at $X$ skal få ein bestemt verdi (eller ligge i eit bestemt intervall)\n",
    "2. Generere ein eller fleire verdiar av $X$ (også kalt ei \"simulering\")"
   ]
  },
  {
   "cell_type": "markdown",
   "id": "fd023524-45ce-4396-bb1a-c0b50ddc59ea",
   "metadata": {},
   "source": [
    "### 1.2.1 Binomisk fordeling\n",
    "Formelen for sannsynet er gitt som $\\displaystyle P(X=x) = \\binom{n}{x}p^x(1-p)^{n-x}$, og vi definerer den slik i Python:"
   ]
  },
  {
   "cell_type": "code",
   "execution_count": 69,
   "id": "8e23faae-48f2-4a3b-8d13-d88bed121d7f",
   "metadata": {},
   "outputs": [],
   "source": [
    "def binomial(n, p, x):\n",
    "    return fakultet(n)/(fakultet(x)*fakultet(n-x))*p**x*(1-p)**(n-x)"
   ]
  },
  {
   "attachments": {},
   "cell_type": "markdown",
   "id": "53e841f2-f618-4e1a-80cd-9b8b06a1bdd4",
   "metadata": {},
   "source": [
    "Først definerer vi parametrane, og så kan vi finne sannsynet for at $X$ er ein gitt verdi:"
   ]
  },
  {
   "cell_type": "code",
   "execution_count": 70,
   "id": "c0cdb874-67ce-4531-a6ee-4e013ca8a425",
   "metadata": {},
   "outputs": [
    {
     "data": {
      "text/plain": [
       "0.24609375"
      ]
     },
     "execution_count": 70,
     "metadata": {},
     "output_type": "execute_result"
    }
   ],
   "source": [
    "n = 10; p = 0.5\n",
    "binomial(n, p, 5)"
   ]
  },
  {
   "cell_type": "markdown",
   "id": "da7e0e7f-e594-4eea-badb-2d81cd479e7d",
   "metadata": {},
   "source": [
    "Når vi skal \"sample\" eit tilfeldig utval må vi definere kor mange vi skal ha i utvalet (her $k$):"
   ]
  },
  {
   "cell_type": "code",
   "execution_count": 71,
   "id": "ab11ad07-5c99-4597-8deb-9d7f26394a92",
   "metadata": {},
   "outputs": [
    {
     "data": {
      "text/plain": [
       "array([5, 4, 6, 5, 6, 7, 7, 6, 6, 7], dtype=int64)"
      ]
     },
     "execution_count": 71,
     "metadata": {},
     "output_type": "execute_result"
    }
   ],
   "source": [
    "k = 10\n",
    "utval = npr.binomial(n, p, k)\n",
    "utval"
   ]
  },
  {
   "cell_type": "markdown",
   "id": "65762027-82bd-4011-b3c5-75507b612f6f",
   "metadata": {},
   "source": [
    "### 1.2.2 Poissonfordeling\n",
    "Formelen for sannsyn er definert som $\\displaystyle P(X = x) = \\frac{(\\lambda t)^x}{x!}e^{-\\lambda t}$. Som du ser er det produktet av $\\lambda$ (antal per tidseining) og $t$ (antal tidseiningar) som gir \"antal i det tidsrommet vi ser på\"."
   ]
  },
  {
   "cell_type": "code",
   "execution_count": 72,
   "id": "bf47959d-ed0b-473a-9d3e-e285f12f7e7b",
   "metadata": {},
   "outputs": [],
   "source": [
    "def poisson(l, t, x):\n",
    "    return (l*t)**x/fakultet(x)*np.exp(-l*t)"
   ]
  },
  {
   "cell_type": "markdown",
   "id": "86b04678-7eb9-4fab-bf06-9c414ddf0dd3",
   "metadata": {},
   "source": [
    "Vi definerer parametrane og finn sannsynet for ein gitt verdi av $X$:"
   ]
  },
  {
   "cell_type": "code",
   "execution_count": 73,
   "id": "45449ec3-8c73-4802-b866-0db362a2ac81",
   "metadata": {},
   "outputs": [
    {
     "data": {
      "text/plain": [
       "0.14652511110987343"
      ]
     },
     "execution_count": 73,
     "metadata": {},
     "output_type": "execute_result"
    }
   ],
   "source": [
    "l = 4; t = 1\n",
    "poisson(l, t, 2)"
   ]
  },
  {
   "cell_type": "markdown",
   "id": "ebb64a69-e38b-4a6f-8c25-a89e2f4a62a5",
   "metadata": {},
   "source": [
    "Vi definerer så antal i utvalet av tilfeldige tal frå denne fordelinga:"
   ]
  },
  {
   "cell_type": "code",
   "execution_count": 76,
   "id": "7f2d3b99-f546-438b-9386-e4b40cb4c755",
   "metadata": {},
   "outputs": [
    {
     "data": {
      "text/plain": [
       "array([4, 5, 6, 4, 2, 2, 2, 8, 4, 4], dtype=int64)"
      ]
     },
     "execution_count": 76,
     "metadata": {},
     "output_type": "execute_result"
    }
   ],
   "source": [
    "k = 10\n",
    "utval = npr.poisson(l*t, k)\n",
    "utval"
   ]
  },
  {
   "cell_type": "markdown",
   "id": "113d4cea-5138-4649-a5fe-9f077d3bf701",
   "metadata": {},
   "source": [
    "### 1.2.3 Geometrisk fordeling\n",
    "Formelen for sannsyn er definert som $P(X=x) = (1-p)^x\\cdot p$:"
   ]
  },
  {
   "cell_type": "code",
   "execution_count": 87,
   "id": "56abbf5e-ab33-48c6-a07e-55247f1419a1",
   "metadata": {},
   "outputs": [],
   "source": [
    "def geometrisk(p, x):\n",
    "    return (1-p)**x*p"
   ]
  },
  {
   "cell_type": "markdown",
   "id": "cc7465a5-b839-45d0-a076-271dc0b3d6d0",
   "metadata": {},
   "source": [
    "Vi definerer $p$ og rekner ut:"
   ]
  },
  {
   "cell_type": "code",
   "execution_count": 94,
   "id": "1b63db00-1040-4867-aaf5-b61d567ba8d0",
   "metadata": {},
   "outputs": [
    {
     "data": {
      "text/plain": [
       "0.09000000000000001"
      ]
     },
     "execution_count": 94,
     "metadata": {},
     "output_type": "execute_result"
    }
   ],
   "source": [
    "p = 0.1\n",
    "geometrisk(p, 1)"
   ]
  },
  {
   "cell_type": "markdown",
   "id": "ab0c4c30-2fc8-4852-bbaa-ea60603782d5",
   "metadata": {},
   "source": [
    "Simulering av $k$ tilfeldige tal frå denne fordelinga:"
   ]
  },
  {
   "cell_type": "code",
   "execution_count": 91,
   "id": "7222f059-1b20-4499-b857-9d0558628899",
   "metadata": {},
   "outputs": [
    {
     "data": {
      "text/plain": [
       "array([ 3,  5,  1, 10,  4,  2, 21,  7,  4, 13], dtype=int64)"
      ]
     },
     "execution_count": 91,
     "metadata": {},
     "output_type": "execute_result"
    }
   ],
   "source": [
    "k = 10\n",
    "utval = npr.geometric(p, k)\n",
    "utval"
   ]
  },
  {
   "cell_type": "markdown",
   "id": "79e94a4e-8242-4bb6-976c-700a6a0cb8cc",
   "metadata": {},
   "source": [
    "### 1.2.4 Normalfordeling\n",
    "I normalfordelinga er det aldri interessant å rekne sannsynet for at $x$ er lik ein gitt verdi, men alltid interessant om den er større (eller mindre) enn verdien. Korleis formelen ser ut bryr vi oss ikkje om; den vert definert i Python slik: "
   ]
  },
  {
   "cell_type": "code",
   "execution_count": 93,
   "id": "64987e83-b6ef-4536-b34a-05fe30c8e67c",
   "metadata": {},
   "outputs": [],
   "source": [
    "def normal(m, s, x):\n",
    "    return (1/(s*np.sqrt(2*np.pi)))*np.exp(-0.5*((x-m)/s)**2)"
   ]
  },
  {
   "cell_type": "markdown",
   "id": "57f12cf0-42c3-4f35-9fc3-c1cb9974060b",
   "metadata": {},
   "source": [
    "Vi definerer $\\mu$ og $\\sigma$ og rekner ut:"
   ]
  },
  {
   "cell_type": "code",
   "execution_count": 95,
   "id": "a4bc1519-b00e-43b5-821d-4f4892a4189a",
   "metadata": {},
   "outputs": [
    {
     "data": {
      "text/plain": [
       "0.3520653267642995"
      ]
     },
     "execution_count": 95,
     "metadata": {},
     "output_type": "execute_result"
    }
   ],
   "source": [
    "mu = 0\n",
    "sigma = 1\n",
    "normal(mu, sigma, 0.5)"
   ]
  },
  {
   "cell_type": "markdown",
   "id": "5c9b42dc-8743-47da-9070-2765ea16594c",
   "metadata": {},
   "source": [
    "Simulering av $k$ tilfeldige tal frå denne fordelinga:"
   ]
  },
  {
   "cell_type": "code",
   "execution_count": 97,
   "id": "622d0783-987d-4208-affc-a24bf2ff5d6b",
   "metadata": {},
   "outputs": [
    {
     "data": {
      "text/plain": [
       "array([-0.54483641, -0.42582157, -1.15447728, -0.57720092, -1.27182088,\n",
       "        0.22901343,  0.22622954,  0.87822124, -1.00903745, -0.61631881])"
      ]
     },
     "execution_count": 97,
     "metadata": {},
     "output_type": "execute_result"
    }
   ],
   "source": [
    "k = 10\n",
    "utval = npr.normal(mu, sigma, k)\n",
    "utval"
   ]
  },
  {
   "cell_type": "markdown",
   "id": "11a9e653-3b37-46ce-b27a-7a2c8946a99c",
   "metadata": {},
   "source": [
    "### 1.2.5 Kjikvadratfordeling\n",
    "Vi vil aldri rekne sannsyn eller simulere tal frå denne fordelinga."
   ]
  },
  {
   "cell_type": "markdown",
   "id": "2f2b8c06-674a-498e-8ca6-e810c03ee61b",
   "metadata": {},
   "source": [
    "# 1.3 Teori om sannsynsrekning\n",
    "\n",
    "Den mest grunnleggande teorien om sannsynsrekning treng vi ikkje Python til. Det gjeld tema som\n",
    "\n",
    "- definisjon av sannsyn\n",
    "- definsjon av *stokastisk variabel*, *utfall* og *utfallsrom*\n",
    "- uavhengige hendingar\n",
    "- betinga sannsyn\n",
    "- Bayes' regel"
   ]
  },
  {
   "cell_type": "code",
   "execution_count": null,
   "id": "6536d81b-f941-4636-bd7e-d9741981f9bc",
   "metadata": {},
   "outputs": [],
   "source": []
  }
 ],
 "metadata": {
  "kernelspec": {
   "display_name": "Python 3 (ipykernel)",
   "language": "python",
   "name": "python3"
  },
  "language_info": {
   "codemirror_mode": {
    "name": "ipython",
    "version": 3
   },
   "file_extension": ".py",
   "mimetype": "text/x-python",
   "name": "python",
   "nbconvert_exporter": "python",
   "pygments_lexer": "ipython3",
   "version": "3.12.0"
  }
 },
 "nbformat": 4,
 "nbformat_minor": 5
}
